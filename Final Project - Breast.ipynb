{
 "cells": [
  {
   "cell_type": "markdown",
   "id": "6b989259",
   "metadata": {},
   "source": [
    "# Breast Cancer Prediction"
   ]
  },
  {
   "cell_type": "markdown",
   "id": "6bd9e1fc",
   "metadata": {},
   "source": [
    "## Binary Classification Prediction for type of Breast Cancer"
   ]
  },
  {
   "cell_type": "code",
   "execution_count": 292,
   "id": "dda8dd20",
   "metadata": {
    "vscode": {
     "languageId": "r"
    }
   },
   "outputs": [],
   "source": [
    "options(warn = -1)"
   ]
  },
  {
   "cell_type": "markdown",
   "id": "4da75a6c",
   "metadata": {},
   "source": [
    "#### Libraries"
   ]
  },
  {
   "cell_type": "code",
   "execution_count": null,
   "id": "09f774a9",
   "metadata": {
    "vscode": {
     "languageId": "r"
    }
   },
   "outputs": [],
   "source": [
    "library(dplyr)\n",
    "library(tidyr)\n",
    "library(corrplot)\n",
    "library(DataExplorer)\n",
    "library(Amelia)\n",
    "library(GGally)\n",
    "library(caret)\n",
    "# models\n",
    "library(nnet)\n",
    "library(kernlab)\n",
    "library(klaR)\n",
    "library(mda)\n",
    "library(earth)\n",
    "library(randomForest)\n",
    "library(C50)\n",
    "library(gbm)\n",
    "library(pls)\n",
    "library(glmnet)\n",
    "library(pamr)\n",
    "library(pROC)"
   ]
  },
  {
   "cell_type": "markdown",
   "id": "be9002f9",
   "metadata": {},
   "source": [
    "## Exploration Data Analysis"
   ]
  },
  {
   "cell_type": "markdown",
   "id": "a047523b",
   "metadata": {},
   "source": [
    "#### Importing the dataset"
   ]
  },
  {
   "cell_type": "code",
   "execution_count": 294,
   "id": "10347fb2",
   "metadata": {
    "vscode": {
     "languageId": "r"
    }
   },
   "outputs": [],
   "source": [
    "breast_df <- read.csv('breast-cancer.csv')"
   ]
  },
  {
   "cell_type": "markdown",
   "id": "9d858520",
   "metadata": {},
   "source": [
    "Dropping the first column 'id'"
   ]
  },
  {
   "cell_type": "code",
   "execution_count": 295,
   "id": "cd9bf31b",
   "metadata": {
    "vscode": {
     "languageId": "r"
    }
   },
   "outputs": [],
   "source": [
    "breast_df$id <- NULL"
   ]
  },
  {
   "cell_type": "markdown",
   "id": "86933991",
   "metadata": {},
   "source": [
    "#### Checking dimensions"
   ]
  },
  {
   "cell_type": "code",
   "execution_count": 296,
   "id": "22203435",
   "metadata": {
    "vscode": {
     "languageId": "r"
    }
   },
   "outputs": [
    {
     "name": "stdout",
     "output_type": "stream",
     "text": [
      "Num Rows:  569 Num Col:  31"
     ]
    }
   ],
   "source": [
    "dim <- dim(breast_df)\n",
    "cat('Num Rows: ', dim[1], 'Num Col: ', dim[2])"
   ]
  },
  {
   "cell_type": "markdown",
   "id": "93b20dca",
   "metadata": {},
   "source": [
    "#### Showing first rows"
   ]
  },
  {
   "cell_type": "code",
   "execution_count": 297,
   "id": "9513011d",
   "metadata": {
    "vscode": {
     "languageId": "r"
    }
   },
   "outputs": [
    {
     "data": {
      "text/html": [
       "<table class=\"dataframe\">\n",
       "<caption>A data.frame: 6 × 31</caption>\n",
       "<thead>\n",
       "\t<tr><th></th><th scope=col>diagnosis</th><th scope=col>radius_mean</th><th scope=col>texture_mean</th><th scope=col>perimeter_mean</th><th scope=col>area_mean</th><th scope=col>smoothness_mean</th><th scope=col>compactness_mean</th><th scope=col>concavity_mean</th><th scope=col>concave.points_mean</th><th scope=col>symmetry_mean</th><th scope=col>⋯</th><th scope=col>radius_worst</th><th scope=col>texture_worst</th><th scope=col>perimeter_worst</th><th scope=col>area_worst</th><th scope=col>smoothness_worst</th><th scope=col>compactness_worst</th><th scope=col>concavity_worst</th><th scope=col>concave.points_worst</th><th scope=col>symmetry_worst</th><th scope=col>fractal_dimension_worst</th></tr>\n",
       "\t<tr><th></th><th scope=col>&lt;chr&gt;</th><th scope=col>&lt;dbl&gt;</th><th scope=col>&lt;dbl&gt;</th><th scope=col>&lt;dbl&gt;</th><th scope=col>&lt;dbl&gt;</th><th scope=col>&lt;dbl&gt;</th><th scope=col>&lt;dbl&gt;</th><th scope=col>&lt;dbl&gt;</th><th scope=col>&lt;dbl&gt;</th><th scope=col>&lt;dbl&gt;</th><th scope=col>⋯</th><th scope=col>&lt;dbl&gt;</th><th scope=col>&lt;dbl&gt;</th><th scope=col>&lt;dbl&gt;</th><th scope=col>&lt;dbl&gt;</th><th scope=col>&lt;dbl&gt;</th><th scope=col>&lt;dbl&gt;</th><th scope=col>&lt;dbl&gt;</th><th scope=col>&lt;dbl&gt;</th><th scope=col>&lt;dbl&gt;</th><th scope=col>&lt;dbl&gt;</th></tr>\n",
       "</thead>\n",
       "<tbody>\n",
       "\t<tr><th scope=row>1</th><td>M</td><td>17.99</td><td>10.38</td><td>122.80</td><td>1001.0</td><td>0.11840</td><td>0.27760</td><td>0.3001</td><td>0.14710</td><td>0.2419</td><td>⋯</td><td>25.38</td><td>17.33</td><td>184.60</td><td>2019.0</td><td>0.1622</td><td>0.6656</td><td>0.7119</td><td>0.2654</td><td>0.4601</td><td>0.11890</td></tr>\n",
       "\t<tr><th scope=row>2</th><td>M</td><td>20.57</td><td>17.77</td><td>132.90</td><td>1326.0</td><td>0.08474</td><td>0.07864</td><td>0.0869</td><td>0.07017</td><td>0.1812</td><td>⋯</td><td>24.99</td><td>23.41</td><td>158.80</td><td>1956.0</td><td>0.1238</td><td>0.1866</td><td>0.2416</td><td>0.1860</td><td>0.2750</td><td>0.08902</td></tr>\n",
       "\t<tr><th scope=row>3</th><td>M</td><td>19.69</td><td>21.25</td><td>130.00</td><td>1203.0</td><td>0.10960</td><td>0.15990</td><td>0.1974</td><td>0.12790</td><td>0.2069</td><td>⋯</td><td>23.57</td><td>25.53</td><td>152.50</td><td>1709.0</td><td>0.1444</td><td>0.4245</td><td>0.4504</td><td>0.2430</td><td>0.3613</td><td>0.08758</td></tr>\n",
       "\t<tr><th scope=row>4</th><td>M</td><td>11.42</td><td>20.38</td><td> 77.58</td><td> 386.1</td><td>0.14250</td><td>0.28390</td><td>0.2414</td><td>0.10520</td><td>0.2597</td><td>⋯</td><td>14.91</td><td>26.50</td><td> 98.87</td><td> 567.7</td><td>0.2098</td><td>0.8663</td><td>0.6869</td><td>0.2575</td><td>0.6638</td><td>0.17300</td></tr>\n",
       "\t<tr><th scope=row>5</th><td>M</td><td>20.29</td><td>14.34</td><td>135.10</td><td>1297.0</td><td>0.10030</td><td>0.13280</td><td>0.1980</td><td>0.10430</td><td>0.1809</td><td>⋯</td><td>22.54</td><td>16.67</td><td>152.20</td><td>1575.0</td><td>0.1374</td><td>0.2050</td><td>0.4000</td><td>0.1625</td><td>0.2364</td><td>0.07678</td></tr>\n",
       "\t<tr><th scope=row>6</th><td>M</td><td>12.45</td><td>15.70</td><td> 82.57</td><td> 477.1</td><td>0.12780</td><td>0.17000</td><td>0.1578</td><td>0.08089</td><td>0.2087</td><td>⋯</td><td>15.47</td><td>23.75</td><td>103.40</td><td> 741.6</td><td>0.1791</td><td>0.5249</td><td>0.5355</td><td>0.1741</td><td>0.3985</td><td>0.12440</td></tr>\n",
       "</tbody>\n",
       "</table>\n"
      ],
      "text/latex": [
       "A data.frame: 6 × 31\n",
       "\\begin{tabular}{r|lllllllllllllllllllll}\n",
       "  & diagnosis & radius\\_mean & texture\\_mean & perimeter\\_mean & area\\_mean & smoothness\\_mean & compactness\\_mean & concavity\\_mean & concave.points\\_mean & symmetry\\_mean & ⋯ & radius\\_worst & texture\\_worst & perimeter\\_worst & area\\_worst & smoothness\\_worst & compactness\\_worst & concavity\\_worst & concave.points\\_worst & symmetry\\_worst & fractal\\_dimension\\_worst\\\\\n",
       "  & <chr> & <dbl> & <dbl> & <dbl> & <dbl> & <dbl> & <dbl> & <dbl> & <dbl> & <dbl> & ⋯ & <dbl> & <dbl> & <dbl> & <dbl> & <dbl> & <dbl> & <dbl> & <dbl> & <dbl> & <dbl>\\\\\n",
       "\\hline\n",
       "\t1 & M & 17.99 & 10.38 & 122.80 & 1001.0 & 0.11840 & 0.27760 & 0.3001 & 0.14710 & 0.2419 & ⋯ & 25.38 & 17.33 & 184.60 & 2019.0 & 0.1622 & 0.6656 & 0.7119 & 0.2654 & 0.4601 & 0.11890\\\\\n",
       "\t2 & M & 20.57 & 17.77 & 132.90 & 1326.0 & 0.08474 & 0.07864 & 0.0869 & 0.07017 & 0.1812 & ⋯ & 24.99 & 23.41 & 158.80 & 1956.0 & 0.1238 & 0.1866 & 0.2416 & 0.1860 & 0.2750 & 0.08902\\\\\n",
       "\t3 & M & 19.69 & 21.25 & 130.00 & 1203.0 & 0.10960 & 0.15990 & 0.1974 & 0.12790 & 0.2069 & ⋯ & 23.57 & 25.53 & 152.50 & 1709.0 & 0.1444 & 0.4245 & 0.4504 & 0.2430 & 0.3613 & 0.08758\\\\\n",
       "\t4 & M & 11.42 & 20.38 &  77.58 &  386.1 & 0.14250 & 0.28390 & 0.2414 & 0.10520 & 0.2597 & ⋯ & 14.91 & 26.50 &  98.87 &  567.7 & 0.2098 & 0.8663 & 0.6869 & 0.2575 & 0.6638 & 0.17300\\\\\n",
       "\t5 & M & 20.29 & 14.34 & 135.10 & 1297.0 & 0.10030 & 0.13280 & 0.1980 & 0.10430 & 0.1809 & ⋯ & 22.54 & 16.67 & 152.20 & 1575.0 & 0.1374 & 0.2050 & 0.4000 & 0.1625 & 0.2364 & 0.07678\\\\\n",
       "\t6 & M & 12.45 & 15.70 &  82.57 &  477.1 & 0.12780 & 0.17000 & 0.1578 & 0.08089 & 0.2087 & ⋯ & 15.47 & 23.75 & 103.40 &  741.6 & 0.1791 & 0.5249 & 0.5355 & 0.1741 & 0.3985 & 0.12440\\\\\n",
       "\\end{tabular}\n"
      ],
      "text/markdown": [
       "\n",
       "A data.frame: 6 × 31\n",
       "\n",
       "| <!--/--> | diagnosis &lt;chr&gt; | radius_mean &lt;dbl&gt; | texture_mean &lt;dbl&gt; | perimeter_mean &lt;dbl&gt; | area_mean &lt;dbl&gt; | smoothness_mean &lt;dbl&gt; | compactness_mean &lt;dbl&gt; | concavity_mean &lt;dbl&gt; | concave.points_mean &lt;dbl&gt; | symmetry_mean &lt;dbl&gt; | ⋯ ⋯ | radius_worst &lt;dbl&gt; | texture_worst &lt;dbl&gt; | perimeter_worst &lt;dbl&gt; | area_worst &lt;dbl&gt; | smoothness_worst &lt;dbl&gt; | compactness_worst &lt;dbl&gt; | concavity_worst &lt;dbl&gt; | concave.points_worst &lt;dbl&gt; | symmetry_worst &lt;dbl&gt; | fractal_dimension_worst &lt;dbl&gt; |\n",
       "|---|---|---|---|---|---|---|---|---|---|---|---|---|---|---|---|---|---|---|---|---|---|\n",
       "| 1 | M | 17.99 | 10.38 | 122.80 | 1001.0 | 0.11840 | 0.27760 | 0.3001 | 0.14710 | 0.2419 | ⋯ | 25.38 | 17.33 | 184.60 | 2019.0 | 0.1622 | 0.6656 | 0.7119 | 0.2654 | 0.4601 | 0.11890 |\n",
       "| 2 | M | 20.57 | 17.77 | 132.90 | 1326.0 | 0.08474 | 0.07864 | 0.0869 | 0.07017 | 0.1812 | ⋯ | 24.99 | 23.41 | 158.80 | 1956.0 | 0.1238 | 0.1866 | 0.2416 | 0.1860 | 0.2750 | 0.08902 |\n",
       "| 3 | M | 19.69 | 21.25 | 130.00 | 1203.0 | 0.10960 | 0.15990 | 0.1974 | 0.12790 | 0.2069 | ⋯ | 23.57 | 25.53 | 152.50 | 1709.0 | 0.1444 | 0.4245 | 0.4504 | 0.2430 | 0.3613 | 0.08758 |\n",
       "| 4 | M | 11.42 | 20.38 |  77.58 |  386.1 | 0.14250 | 0.28390 | 0.2414 | 0.10520 | 0.2597 | ⋯ | 14.91 | 26.50 |  98.87 |  567.7 | 0.2098 | 0.8663 | 0.6869 | 0.2575 | 0.6638 | 0.17300 |\n",
       "| 5 | M | 20.29 | 14.34 | 135.10 | 1297.0 | 0.10030 | 0.13280 | 0.1980 | 0.10430 | 0.1809 | ⋯ | 22.54 | 16.67 | 152.20 | 1575.0 | 0.1374 | 0.2050 | 0.4000 | 0.1625 | 0.2364 | 0.07678 |\n",
       "| 6 | M | 12.45 | 15.70 |  82.57 |  477.1 | 0.12780 | 0.17000 | 0.1578 | 0.08089 | 0.2087 | ⋯ | 15.47 | 23.75 | 103.40 |  741.6 | 0.1791 | 0.5249 | 0.5355 | 0.1741 | 0.3985 | 0.12440 |\n",
       "\n"
      ],
      "text/plain": [
       "  diagnosis radius_mean texture_mean perimeter_mean area_mean smoothness_mean\n",
       "1 M         17.99       10.38        122.80         1001.0    0.11840        \n",
       "2 M         20.57       17.77        132.90         1326.0    0.08474        \n",
       "3 M         19.69       21.25        130.00         1203.0    0.10960        \n",
       "4 M         11.42       20.38         77.58          386.1    0.14250        \n",
       "5 M         20.29       14.34        135.10         1297.0    0.10030        \n",
       "6 M         12.45       15.70         82.57          477.1    0.12780        \n",
       "  compactness_mean concavity_mean concave.points_mean symmetry_mean ⋯\n",
       "1 0.27760          0.3001         0.14710             0.2419        ⋯\n",
       "2 0.07864          0.0869         0.07017             0.1812        ⋯\n",
       "3 0.15990          0.1974         0.12790             0.2069        ⋯\n",
       "4 0.28390          0.2414         0.10520             0.2597        ⋯\n",
       "5 0.13280          0.1980         0.10430             0.1809        ⋯\n",
       "6 0.17000          0.1578         0.08089             0.2087        ⋯\n",
       "  radius_worst texture_worst perimeter_worst area_worst smoothness_worst\n",
       "1 25.38        17.33         184.60          2019.0     0.1622          \n",
       "2 24.99        23.41         158.80          1956.0     0.1238          \n",
       "3 23.57        25.53         152.50          1709.0     0.1444          \n",
       "4 14.91        26.50          98.87           567.7     0.2098          \n",
       "5 22.54        16.67         152.20          1575.0     0.1374          \n",
       "6 15.47        23.75         103.40           741.6     0.1791          \n",
       "  compactness_worst concavity_worst concave.points_worst symmetry_worst\n",
       "1 0.6656            0.7119          0.2654               0.4601        \n",
       "2 0.1866            0.2416          0.1860               0.2750        \n",
       "3 0.4245            0.4504          0.2430               0.3613        \n",
       "4 0.8663            0.6869          0.2575               0.6638        \n",
       "5 0.2050            0.4000          0.1625               0.2364        \n",
       "6 0.5249            0.5355          0.1741               0.3985        \n",
       "  fractal_dimension_worst\n",
       "1 0.11890                \n",
       "2 0.08902                \n",
       "3 0.08758                \n",
       "4 0.17300                \n",
       "5 0.07678                \n",
       "6 0.12440                "
      ]
     },
     "metadata": {},
     "output_type": "display_data"
    }
   ],
   "source": [
    "head(breast_df)"
   ]
  },
  {
   "cell_type": "markdown",
   "id": "f5d370e6",
   "metadata": {},
   "source": [
    "#### Showing Data types"
   ]
  },
  {
   "cell_type": "code",
   "execution_count": 298,
   "id": "78057c4f",
   "metadata": {
    "vscode": {
     "languageId": "r"
    }
   },
   "outputs": [
    {
     "name": "stdout",
     "output_type": "stream",
     "text": [
      "'data.frame':\t569 obs. of  31 variables:\n",
      " $ diagnosis              : chr  \"M\" \"M\" \"M\" \"M\" ...\n",
      " $ radius_mean            : num  18 20.6 19.7 11.4 20.3 ...\n",
      " $ texture_mean           : num  10.4 17.8 21.2 20.4 14.3 ...\n",
      " $ perimeter_mean         : num  122.8 132.9 130 77.6 135.1 ...\n",
      " $ area_mean              : num  1001 1326 1203 386 1297 ...\n",
      " $ smoothness_mean        : num  0.1184 0.0847 0.1096 0.1425 0.1003 ...\n",
      " $ compactness_mean       : num  0.2776 0.0786 0.1599 0.2839 0.1328 ...\n",
      " $ concavity_mean         : num  0.3001 0.0869 0.1974 0.2414 0.198 ...\n",
      " $ concave.points_mean    : num  0.1471 0.0702 0.1279 0.1052 0.1043 ...\n",
      " $ symmetry_mean          : num  0.242 0.181 0.207 0.26 0.181 ...\n",
      " $ fractal_dimension_mean : num  0.0787 0.0567 0.06 0.0974 0.0588 ...\n",
      " $ radius_se              : num  1.095 0.543 0.746 0.496 0.757 ...\n",
      " $ texture_se             : num  0.905 0.734 0.787 1.156 0.781 ...\n",
      " $ perimeter_se           : num  8.59 3.4 4.58 3.44 5.44 ...\n",
      " $ area_se                : num  153.4 74.1 94 27.2 94.4 ...\n",
      " $ smoothness_se          : num  0.0064 0.00522 0.00615 0.00911 0.01149 ...\n",
      " $ compactness_se         : num  0.049 0.0131 0.0401 0.0746 0.0246 ...\n",
      " $ concavity_se           : num  0.0537 0.0186 0.0383 0.0566 0.0569 ...\n",
      " $ concave.points_se      : num  0.0159 0.0134 0.0206 0.0187 0.0188 ...\n",
      " $ symmetry_se            : num  0.03 0.0139 0.0225 0.0596 0.0176 ...\n",
      " $ fractal_dimension_se   : num  0.00619 0.00353 0.00457 0.00921 0.00511 ...\n",
      " $ radius_worst           : num  25.4 25 23.6 14.9 22.5 ...\n",
      " $ texture_worst          : num  17.3 23.4 25.5 26.5 16.7 ...\n",
      " $ perimeter_worst        : num  184.6 158.8 152.5 98.9 152.2 ...\n",
      " $ area_worst             : num  2019 1956 1709 568 1575 ...\n",
      " $ smoothness_worst       : num  0.162 0.124 0.144 0.21 0.137 ...\n",
      " $ compactness_worst      : num  0.666 0.187 0.424 0.866 0.205 ...\n",
      " $ concavity_worst        : num  0.712 0.242 0.45 0.687 0.4 ...\n",
      " $ concave.points_worst   : num  0.265 0.186 0.243 0.258 0.163 ...\n",
      " $ symmetry_worst         : num  0.46 0.275 0.361 0.664 0.236 ...\n",
      " $ fractal_dimension_worst: num  0.1189 0.089 0.0876 0.173 0.0768 ...\n"
     ]
    }
   ],
   "source": [
    "str(breast_df)"
   ]
  },
  {
   "cell_type": "markdown",
   "id": "b3e237ae",
   "metadata": {},
   "source": [
    "#### Summary Statistics"
   ]
  },
  {
   "cell_type": "code",
   "execution_count": 299,
   "id": "a0b43010",
   "metadata": {
    "vscode": {
     "languageId": "r"
    }
   },
   "outputs": [
    {
     "data": {
      "text/plain": [
       "  diagnosis          radius_mean      texture_mean   perimeter_mean  \n",
       " Length:569         Min.   : 6.981   Min.   : 9.71   Min.   : 43.79  \n",
       " Class :character   1st Qu.:11.700   1st Qu.:16.17   1st Qu.: 75.17  \n",
       " Mode  :character   Median :13.370   Median :18.84   Median : 86.24  \n",
       "                    Mean   :14.127   Mean   :19.29   Mean   : 91.97  \n",
       "                    3rd Qu.:15.780   3rd Qu.:21.80   3rd Qu.:104.10  \n",
       "                    Max.   :28.110   Max.   :39.28   Max.   :188.50  \n",
       "   area_mean      smoothness_mean   compactness_mean  concavity_mean   \n",
       " Min.   : 143.5   Min.   :0.05263   Min.   :0.01938   Min.   :0.00000  \n",
       " 1st Qu.: 420.3   1st Qu.:0.08637   1st Qu.:0.06492   1st Qu.:0.02956  \n",
       " Median : 551.1   Median :0.09587   Median :0.09263   Median :0.06154  \n",
       " Mean   : 654.9   Mean   :0.09636   Mean   :0.10434   Mean   :0.08880  \n",
       " 3rd Qu.: 782.7   3rd Qu.:0.10530   3rd Qu.:0.13040   3rd Qu.:0.13070  \n",
       " Max.   :2501.0   Max.   :0.16340   Max.   :0.34540   Max.   :0.42680  \n",
       " concave.points_mean symmetry_mean    fractal_dimension_mean   radius_se     \n",
       " Min.   :0.00000     Min.   :0.1060   Min.   :0.04996        Min.   :0.1115  \n",
       " 1st Qu.:0.02031     1st Qu.:0.1619   1st Qu.:0.05770        1st Qu.:0.2324  \n",
       " Median :0.03350     Median :0.1792   Median :0.06154        Median :0.3242  \n",
       " Mean   :0.04892     Mean   :0.1812   Mean   :0.06280        Mean   :0.4052  \n",
       " 3rd Qu.:0.07400     3rd Qu.:0.1957   3rd Qu.:0.06612        3rd Qu.:0.4789  \n",
       " Max.   :0.20120     Max.   :0.3040   Max.   :0.09744        Max.   :2.8730  \n",
       "   texture_se      perimeter_se       area_se        smoothness_se     \n",
       " Min.   :0.3602   Min.   : 0.757   Min.   :  6.802   Min.   :0.001713  \n",
       " 1st Qu.:0.8339   1st Qu.: 1.606   1st Qu.: 17.850   1st Qu.:0.005169  \n",
       " Median :1.1080   Median : 2.287   Median : 24.530   Median :0.006380  \n",
       " Mean   :1.2169   Mean   : 2.866   Mean   : 40.337   Mean   :0.007041  \n",
       " 3rd Qu.:1.4740   3rd Qu.: 3.357   3rd Qu.: 45.190   3rd Qu.:0.008146  \n",
       " Max.   :4.8850   Max.   :21.980   Max.   :542.200   Max.   :0.031130  \n",
       " compactness_se      concavity_se     concave.points_se   symmetry_se      \n",
       " Min.   :0.002252   Min.   :0.00000   Min.   :0.000000   Min.   :0.007882  \n",
       " 1st Qu.:0.013080   1st Qu.:0.01509   1st Qu.:0.007638   1st Qu.:0.015160  \n",
       " Median :0.020450   Median :0.02589   Median :0.010930   Median :0.018730  \n",
       " Mean   :0.025478   Mean   :0.03189   Mean   :0.011796   Mean   :0.020542  \n",
       " 3rd Qu.:0.032450   3rd Qu.:0.04205   3rd Qu.:0.014710   3rd Qu.:0.023480  \n",
       " Max.   :0.135400   Max.   :0.39600   Max.   :0.052790   Max.   :0.078950  \n",
       " fractal_dimension_se  radius_worst   texture_worst   perimeter_worst \n",
       " Min.   :0.0008948    Min.   : 7.93   Min.   :12.02   Min.   : 50.41  \n",
       " 1st Qu.:0.0022480    1st Qu.:13.01   1st Qu.:21.08   1st Qu.: 84.11  \n",
       " Median :0.0031870    Median :14.97   Median :25.41   Median : 97.66  \n",
       " Mean   :0.0037949    Mean   :16.27   Mean   :25.68   Mean   :107.26  \n",
       " 3rd Qu.:0.0045580    3rd Qu.:18.79   3rd Qu.:29.72   3rd Qu.:125.40  \n",
       " Max.   :0.0298400    Max.   :36.04   Max.   :49.54   Max.   :251.20  \n",
       "   area_worst     smoothness_worst  compactness_worst concavity_worst \n",
       " Min.   : 185.2   Min.   :0.07117   Min.   :0.02729   Min.   :0.0000  \n",
       " 1st Qu.: 515.3   1st Qu.:0.11660   1st Qu.:0.14720   1st Qu.:0.1145  \n",
       " Median : 686.5   Median :0.13130   Median :0.21190   Median :0.2267  \n",
       " Mean   : 880.6   Mean   :0.13237   Mean   :0.25427   Mean   :0.2722  \n",
       " 3rd Qu.:1084.0   3rd Qu.:0.14600   3rd Qu.:0.33910   3rd Qu.:0.3829  \n",
       " Max.   :4254.0   Max.   :0.22260   Max.   :1.05800   Max.   :1.2520  \n",
       " concave.points_worst symmetry_worst   fractal_dimension_worst\n",
       " Min.   :0.00000      Min.   :0.1565   Min.   :0.05504        \n",
       " 1st Qu.:0.06493      1st Qu.:0.2504   1st Qu.:0.07146        \n",
       " Median :0.09993      Median :0.2822   Median :0.08004        \n",
       " Mean   :0.11461      Mean   :0.2901   Mean   :0.08395        \n",
       " 3rd Qu.:0.16140      3rd Qu.:0.3179   3rd Qu.:0.09208        \n",
       " Max.   :0.29100      Max.   :0.6638   Max.   :0.20750        "
      ]
     },
     "metadata": {},
     "output_type": "display_data"
    }
   ],
   "source": [
    "summary(breast_df)"
   ]
  },
  {
   "cell_type": "markdown",
   "id": "ff1c0aae",
   "metadata": {},
   "source": [
    "#### Looking for Missing data"
   ]
  },
  {
   "cell_type": "code",
   "execution_count": 300,
   "id": "80f3aadb",
   "metadata": {
    "vscode": {
     "languageId": "r"
    }
   },
   "outputs": [
    {
     "data": {
      "text/html": [
       "<style>\n",
       ".dl-inline {width: auto; margin:0; padding: 0}\n",
       ".dl-inline>dt, .dl-inline>dd {float: none; width: auto; display: inline-block}\n",
       ".dl-inline>dt::after {content: \":\\0020\"; padding-right: .5ex}\n",
       ".dl-inline>dt:not(:first-of-type) {padding-left: .5ex}\n",
       "</style><dl class=dl-inline><dt>diagnosis</dt><dd>0</dd><dt>radius_mean</dt><dd>0</dd><dt>texture_mean</dt><dd>0</dd><dt>perimeter_mean</dt><dd>0</dd><dt>area_mean</dt><dd>0</dd><dt>smoothness_mean</dt><dd>0</dd><dt>compactness_mean</dt><dd>0</dd><dt>concavity_mean</dt><dd>0</dd><dt>concave.points_mean</dt><dd>0</dd><dt>symmetry_mean</dt><dd>0</dd><dt>fractal_dimension_mean</dt><dd>0</dd><dt>radius_se</dt><dd>0</dd><dt>texture_se</dt><dd>0</dd><dt>perimeter_se</dt><dd>0</dd><dt>area_se</dt><dd>0</dd><dt>smoothness_se</dt><dd>0</dd><dt>compactness_se</dt><dd>0</dd><dt>concavity_se</dt><dd>0</dd><dt>concave.points_se</dt><dd>0</dd><dt>symmetry_se</dt><dd>0</dd><dt>fractal_dimension_se</dt><dd>0</dd><dt>radius_worst</dt><dd>0</dd><dt>texture_worst</dt><dd>0</dd><dt>perimeter_worst</dt><dd>0</dd><dt>area_worst</dt><dd>0</dd><dt>smoothness_worst</dt><dd>0</dd><dt>compactness_worst</dt><dd>0</dd><dt>concavity_worst</dt><dd>0</dd><dt>concave.points_worst</dt><dd>0</dd><dt>symmetry_worst</dt><dd>0</dd><dt>fractal_dimension_worst</dt><dd>0</dd></dl>\n"
      ],
      "text/latex": [
       "\\begin{description*}\n",
       "\\item[diagnosis] 0\n",
       "\\item[radius\\textbackslash{}\\_mean] 0\n",
       "\\item[texture\\textbackslash{}\\_mean] 0\n",
       "\\item[perimeter\\textbackslash{}\\_mean] 0\n",
       "\\item[area\\textbackslash{}\\_mean] 0\n",
       "\\item[smoothness\\textbackslash{}\\_mean] 0\n",
       "\\item[compactness\\textbackslash{}\\_mean] 0\n",
       "\\item[concavity\\textbackslash{}\\_mean] 0\n",
       "\\item[concave.points\\textbackslash{}\\_mean] 0\n",
       "\\item[symmetry\\textbackslash{}\\_mean] 0\n",
       "\\item[fractal\\textbackslash{}\\_dimension\\textbackslash{}\\_mean] 0\n",
       "\\item[radius\\textbackslash{}\\_se] 0\n",
       "\\item[texture\\textbackslash{}\\_se] 0\n",
       "\\item[perimeter\\textbackslash{}\\_se] 0\n",
       "\\item[area\\textbackslash{}\\_se] 0\n",
       "\\item[smoothness\\textbackslash{}\\_se] 0\n",
       "\\item[compactness\\textbackslash{}\\_se] 0\n",
       "\\item[concavity\\textbackslash{}\\_se] 0\n",
       "\\item[concave.points\\textbackslash{}\\_se] 0\n",
       "\\item[symmetry\\textbackslash{}\\_se] 0\n",
       "\\item[fractal\\textbackslash{}\\_dimension\\textbackslash{}\\_se] 0\n",
       "\\item[radius\\textbackslash{}\\_worst] 0\n",
       "\\item[texture\\textbackslash{}\\_worst] 0\n",
       "\\item[perimeter\\textbackslash{}\\_worst] 0\n",
       "\\item[area\\textbackslash{}\\_worst] 0\n",
       "\\item[smoothness\\textbackslash{}\\_worst] 0\n",
       "\\item[compactness\\textbackslash{}\\_worst] 0\n",
       "\\item[concavity\\textbackslash{}\\_worst] 0\n",
       "\\item[concave.points\\textbackslash{}\\_worst] 0\n",
       "\\item[symmetry\\textbackslash{}\\_worst] 0\n",
       "\\item[fractal\\textbackslash{}\\_dimension\\textbackslash{}\\_worst] 0\n",
       "\\end{description*}\n"
      ],
      "text/markdown": [
       "diagnosis\n",
       ":   0radius_mean\n",
       ":   0texture_mean\n",
       ":   0perimeter_mean\n",
       ":   0area_mean\n",
       ":   0smoothness_mean\n",
       ":   0compactness_mean\n",
       ":   0concavity_mean\n",
       ":   0concave.points_mean\n",
       ":   0symmetry_mean\n",
       ":   0fractal_dimension_mean\n",
       ":   0radius_se\n",
       ":   0texture_se\n",
       ":   0perimeter_se\n",
       ":   0area_se\n",
       ":   0smoothness_se\n",
       ":   0compactness_se\n",
       ":   0concavity_se\n",
       ":   0concave.points_se\n",
       ":   0symmetry_se\n",
       ":   0fractal_dimension_se\n",
       ":   0radius_worst\n",
       ":   0texture_worst\n",
       ":   0perimeter_worst\n",
       ":   0area_worst\n",
       ":   0smoothness_worst\n",
       ":   0compactness_worst\n",
       ":   0concavity_worst\n",
       ":   0concave.points_worst\n",
       ":   0symmetry_worst\n",
       ":   0fractal_dimension_worst\n",
       ":   0\n",
       "\n"
      ],
      "text/plain": [
       "              diagnosis             radius_mean            texture_mean \n",
       "                      0                       0                       0 \n",
       "         perimeter_mean               area_mean         smoothness_mean \n",
       "                      0                       0                       0 \n",
       "       compactness_mean          concavity_mean     concave.points_mean \n",
       "                      0                       0                       0 \n",
       "          symmetry_mean  fractal_dimension_mean               radius_se \n",
       "                      0                       0                       0 \n",
       "             texture_se            perimeter_se                 area_se \n",
       "                      0                       0                       0 \n",
       "          smoothness_se          compactness_se            concavity_se \n",
       "                      0                       0                       0 \n",
       "      concave.points_se             symmetry_se    fractal_dimension_se \n",
       "                      0                       0                       0 \n",
       "           radius_worst           texture_worst         perimeter_worst \n",
       "                      0                       0                       0 \n",
       "             area_worst        smoothness_worst       compactness_worst \n",
       "                      0                       0                       0 \n",
       "        concavity_worst    concave.points_worst          symmetry_worst \n",
       "                      0                       0                       0 \n",
       "fractal_dimension_worst \n",
       "                      0 "
      ]
     },
     "metadata": {},
     "output_type": "display_data"
    }
   ],
   "source": [
    "colSums(is.na(breast_df))"
   ]
  },
  {
   "cell_type": "markdown",
   "id": "3ce1dae8",
   "metadata": {},
   "source": [
    "This dataset doens't show any missing values in any column"
   ]
  },
  {
   "cell_type": "markdown",
   "id": "a8a13c30",
   "metadata": {},
   "source": [
    "#### Checking for Duplicates"
   ]
  },
  {
   "cell_type": "code",
   "execution_count": 301,
   "id": "f0fe194f",
   "metadata": {
    "vscode": {
     "languageId": "r"
    }
   },
   "outputs": [
    {
     "data": {
      "text/html": [
       "<table class=\"dataframe\">\n",
       "<caption>A data.frame: 0 × 31</caption>\n",
       "<thead>\n",
       "\t<tr><th scope=col>diagnosis</th><th scope=col>radius_mean</th><th scope=col>texture_mean</th><th scope=col>perimeter_mean</th><th scope=col>area_mean</th><th scope=col>smoothness_mean</th><th scope=col>compactness_mean</th><th scope=col>concavity_mean</th><th scope=col>concave.points_mean</th><th scope=col>symmetry_mean</th><th scope=col>⋯</th><th scope=col>radius_worst</th><th scope=col>texture_worst</th><th scope=col>perimeter_worst</th><th scope=col>area_worst</th><th scope=col>smoothness_worst</th><th scope=col>compactness_worst</th><th scope=col>concavity_worst</th><th scope=col>concave.points_worst</th><th scope=col>symmetry_worst</th><th scope=col>fractal_dimension_worst</th></tr>\n",
       "\t<tr><th scope=col>&lt;chr&gt;</th><th scope=col>&lt;dbl&gt;</th><th scope=col>&lt;dbl&gt;</th><th scope=col>&lt;dbl&gt;</th><th scope=col>&lt;dbl&gt;</th><th scope=col>&lt;dbl&gt;</th><th scope=col>&lt;dbl&gt;</th><th scope=col>&lt;dbl&gt;</th><th scope=col>&lt;dbl&gt;</th><th scope=col>&lt;dbl&gt;</th><th scope=col>⋯</th><th scope=col>&lt;dbl&gt;</th><th scope=col>&lt;dbl&gt;</th><th scope=col>&lt;dbl&gt;</th><th scope=col>&lt;dbl&gt;</th><th scope=col>&lt;dbl&gt;</th><th scope=col>&lt;dbl&gt;</th><th scope=col>&lt;dbl&gt;</th><th scope=col>&lt;dbl&gt;</th><th scope=col>&lt;dbl&gt;</th><th scope=col>&lt;dbl&gt;</th></tr>\n",
       "</thead>\n",
       "<tbody>\n",
       "</tbody>\n",
       "</table>\n"
      ],
      "text/latex": [
       "A data.frame: 0 × 31\n",
       "\\begin{tabular}{lllllllllllllllllllll}\n",
       " diagnosis & radius\\_mean & texture\\_mean & perimeter\\_mean & area\\_mean & smoothness\\_mean & compactness\\_mean & concavity\\_mean & concave.points\\_mean & symmetry\\_mean & ⋯ & radius\\_worst & texture\\_worst & perimeter\\_worst & area\\_worst & smoothness\\_worst & compactness\\_worst & concavity\\_worst & concave.points\\_worst & symmetry\\_worst & fractal\\_dimension\\_worst\\\\\n",
       " <chr> & <dbl> & <dbl> & <dbl> & <dbl> & <dbl> & <dbl> & <dbl> & <dbl> & <dbl> & ⋯ & <dbl> & <dbl> & <dbl> & <dbl> & <dbl> & <dbl> & <dbl> & <dbl> & <dbl> & <dbl>\\\\\n",
       "\\hline\n",
       "\\end{tabular}\n"
      ],
      "text/markdown": [
       "\n",
       "A data.frame: 0 × 31\n",
       "\n",
       "| diagnosis &lt;chr&gt; | radius_mean &lt;dbl&gt; | texture_mean &lt;dbl&gt; | perimeter_mean &lt;dbl&gt; | area_mean &lt;dbl&gt; | smoothness_mean &lt;dbl&gt; | compactness_mean &lt;dbl&gt; | concavity_mean &lt;dbl&gt; | concave.points_mean &lt;dbl&gt; | symmetry_mean &lt;dbl&gt; | ⋯ ⋯ | radius_worst &lt;dbl&gt; | texture_worst &lt;dbl&gt; | perimeter_worst &lt;dbl&gt; | area_worst &lt;dbl&gt; | smoothness_worst &lt;dbl&gt; | compactness_worst &lt;dbl&gt; | concavity_worst &lt;dbl&gt; | concave.points_worst &lt;dbl&gt; | symmetry_worst &lt;dbl&gt; | fractal_dimension_worst &lt;dbl&gt; |\n",
       "|---|---|---|---|---|---|---|---|---|---|---|---|---|---|---|---|---|---|---|---|---|\n",
       "\n"
      ],
      "text/plain": [
       "     diagnosis radius_mean texture_mean perimeter_mean area_mean\n",
       "     smoothness_mean compactness_mean concavity_mean concave.points_mean\n",
       "     symmetry_mean ⋯ radius_worst texture_worst perimeter_worst area_worst\n",
       "     smoothness_worst compactness_worst concavity_worst concave.points_worst\n",
       "     symmetry_worst fractal_dimension_worst"
      ]
     },
     "metadata": {},
     "output_type": "display_data"
    }
   ],
   "source": [
    "breast_df[duplicated(breast_df), ]"
   ]
  },
  {
   "cell_type": "markdown",
   "id": "b8eef68e",
   "metadata": {},
   "source": [
    "#### Changing 'diagnosis' column to category data type"
   ]
  },
  {
   "cell_type": "code",
   "execution_count": 302,
   "id": "43b96873",
   "metadata": {
    "vscode": {
     "languageId": "r"
    }
   },
   "outputs": [],
   "source": [
    "breast_df$diagnosis <- as.factor(breast_df$diagnosis)"
   ]
  },
  {
   "cell_type": "markdown",
   "id": "b6f2dfa0",
   "metadata": {},
   "source": [
    "#### Checking how many categories of each type exists in the dataset"
   ]
  },
  {
   "cell_type": "code",
   "execution_count": 303,
   "id": "70721bd0",
   "metadata": {
    "vscode": {
     "languageId": "r"
    }
   },
   "outputs": [
    {
     "data": {
      "text/plain": [
       "\n",
       "  B   M \n",
       "357 212 "
      ]
     },
     "metadata": {},
     "output_type": "display_data"
    }
   ],
   "source": [
    "breast_table <- table(breast_df$diagnosis)\n",
    "breast_table"
   ]
  },
  {
   "cell_type": "markdown",
   "id": "39933e78",
   "metadata": {},
   "source": [
    "#### Calculating percentatge of class imbalance"
   ]
  },
  {
   "cell_type": "code",
   "execution_count": 304,
   "id": "e42a3ada",
   "metadata": {
    "vscode": {
     "languageId": "r"
    }
   },
   "outputs": [
    {
     "name": "stdout",
     "output_type": "stream",
     "text": [
      "Quantity of Class B: 62.74165 % Quantity of Class M: 37.25835 %"
     ]
    }
   ],
   "source": [
    "total_class_imbalance <- breast_table[1] + breast_table[2]\n",
    "\n",
    "breast_class_B <- breast_table[1] / total_class_imbalance\n",
    "breast_class_M <- breast_table[2] / total_class_imbalance\n",
    "\n",
    "cat(\"Quantity of Class B:\", breast_class_B * 100, \"%\", \"Quantity of Class M:\", breast_class_M * 100, \"%\")\n"
   ]
  },
  {
   "cell_type": "markdown",
   "id": "92fa6f14",
   "metadata": {},
   "source": [
    "The calculations show a clear class imbalance between class B and class M"
   ]
  },
  {
   "cell_type": "markdown",
   "id": "41d82e7e",
   "metadata": {},
   "source": [
    "#### Visualization for Categorical Column"
   ]
  },
  {
   "cell_type": "code",
   "execution_count": 305,
   "id": "81936294",
   "metadata": {
    "vscode": {
     "languageId": "r"
    }
   },
   "outputs": [
    {
     "data": {
      "image/png": "[encoded data removed]",
      "text/plain": [
       "Plot with title \"Bar Plot\""
      ]
     },
     "metadata": {
      "image/png": {
       "height": 420,
       "width": 420
      }
     },
     "output_type": "display_data"
    }
   ],
   "source": [
    "barplot(table(breast_df$diagnosis), main = \"Bar Plot\", col = 'lightblue')"
   ]
  },
  {
   "cell_type": "markdown",
   "id": "b79d9fa9",
   "metadata": {},
   "source": [
    "#### Visualizations for Numerical columns"
   ]
  },
  {
   "cell_type": "code",
   "execution_count": 306,
   "id": "0243e16d",
   "metadata": {
    "vscode": {
     "languageId": "r"
    }
   },
   "outputs": [
    {
     "data": {
      "image/png": "[encoded data removed]",
      "text/plain": [
       "plot without title"
      ]
     },
     "metadata": {
      "image/png": {
       "height": 420,
       "width": 420
      }
     },
     "output_type": "display_data"
    },
    {
     "data": {
      "image/png": "[encoded data removed]",
      "text/plain": [
       "plot without title"
      ]
     },
     "metadata": {
      "image/png": {
       "height": 420,
       "width": 420
      }
     },
     "output_type": "display_data"
    }
   ],
   "source": [
    "plot_histogram(breast_df)"
   ]
  },
  {
   "cell_type": "code",
   "execution_count": 307,
   "id": "f6b937fa",
   "metadata": {
    "vscode": {
     "languageId": "r"
    }
   },
   "outputs": [
    {
     "data": {
      "image/png": "[encoded data removed]",
      "text/plain": [
       "plot without title"
      ]
     },
     "metadata": {
      "image/png": {
       "height": 420,
       "width": 420
      }
     },
     "output_type": "display_data"
    }
   ],
   "source": [
    "# Only select numeric columns\n",
    "numeric_data <- breast_df[sapply(breast_df, is.numeric)]\n",
    "\n",
    "# Pairwise scatterplots and correlations\n",
    "ggpairs(numeric_data[ , 1:6])  # Try fewer columns if it's too dense"
   ]
  },
  {
   "cell_type": "code",
   "execution_count": 308,
   "id": "153ea13f",
   "metadata": {
    "vscode": {
     "languageId": "r"
    }
   },
   "outputs": [
    {
     "data": {
      "image/png": "[encoded data removed]",
      "text/plain": [
       "plot without title"
      ]
     },
     "metadata": {
      "image/png": {
       "height": 420,
       "width": 420
      }
     },
     "output_type": "display_data"
    }
   ],
   "source": [
    "# Correlation matrix\n",
    "num_data <- select_if(breast_df, is.numeric)\n",
    "cor_matrix <- cor(num_data, use = \"complete.obs\")\n",
    "\n",
    "corrplot(cor_matrix, method = \"color\")\n"
   ]
  },
  {
   "cell_type": "markdown",
   "id": "c248c109",
   "metadata": {},
   "source": [
    "#### Data Splitting"
   ]
  },
  {
   "cell_type": "markdown",
   "id": "1c8dc9df",
   "metadata": {},
   "source": [
    "Using Stratified random sampling to maintain class proportions. Since this method works best for classification problems"
   ]
  },
  {
   "cell_type": "code",
   "execution_count": 309,
   "id": "04211df8",
   "metadata": {
    "vscode": {
     "languageId": "r"
    }
   },
   "outputs": [
    {
     "data": {
      "text/plain": [
       "\n",
       "        B         M \n",
       "0.6268222 0.3731778 "
      ]
     },
     "metadata": {},
     "output_type": "display_data"
    },
    {
     "data": {
      "text/plain": [
       "\n",
       "        B         M \n",
       "0.6283186 0.3716814 "
      ]
     },
     "metadata": {},
     "output_type": "display_data"
    }
   ],
   "source": [
    "# Setting up seed\n",
    "set.seed(123)\n",
    "\n",
    "# 60% into training \n",
    "trainIndex <- createDataPartition(breast_df$diagnosis, p = 0.6, list = FALSE)\n",
    "\n",
    "# Splitting the data\n",
    "breast_train <- breast_df[trainIndex, ]\n",
    "breast_test  <- breast_df[-trainIndex, ]\n",
    "\n",
    "# Checking if the split is equally split\n",
    "prop.table(table(breast_train$diagnosis))\n",
    "prop.table(table(breast_test$diagnosis))"
   ]
  },
  {
   "cell_type": "markdown",
   "id": "6c27066b",
   "metadata": {},
   "source": [
    "Yes, the split is even"
   ]
  },
  {
   "cell_type": "markdown",
   "id": "506437a3",
   "metadata": {},
   "source": [
    "#### Data Preprocessing (on training set)"
   ]
  },
  {
   "cell_type": "markdown",
   "id": "c0427977",
   "metadata": {},
   "source": [
    "Since we have many skewed data points, we will use boxcox method"
   ]
  },
  {
   "cell_type": "code",
   "execution_count": 310,
   "id": "ccd17358",
   "metadata": {
    "vscode": {
     "languageId": "r"
    }
   },
   "outputs": [],
   "source": [
    "# Fit preprocessing on training data (excluding the target variable \"diagnosis\")\n",
    "preproc <- preProcess(breast_train[, -1], method = c(\"BoxCox\",\"center\", \"scale\"))"
   ]
  },
  {
   "cell_type": "code",
   "execution_count": 311,
   "id": "6046b8b2",
   "metadata": {
    "vscode": {
     "languageId": "r"
    }
   },
   "outputs": [],
   "source": [
    "# Apply preprocessing to both train and test\n",
    "train_processed <- predict(preproc, breast_train[, -1])\n",
    "test_processed  <- predict(preproc, breast_test[, -1])"
   ]
  },
  {
   "cell_type": "code",
   "execution_count": 312,
   "id": "54ad919b",
   "metadata": {
    "vscode": {
     "languageId": "r"
    }
   },
   "outputs": [],
   "source": [
    "# Add back the target variable\n",
    "train_processed$diagnosis <- breast_train$diagnosis\n",
    "test_processed$diagnosis  <- breast_test$diagnosis"
   ]
  },
  {
   "cell_type": "markdown",
   "id": "e684726d",
   "metadata": {},
   "source": [
    "#### Computing correlation matrix before modeling"
   ]
  },
  {
   "cell_type": "code",
   "execution_count": 313,
   "id": "12c7c1e4",
   "metadata": {
    "vscode": {
     "languageId": "r"
    }
   },
   "outputs": [],
   "source": [
    "cor_matrix <- cor(train_processed[, -which(names(train_processed) == \"diagnosis\")]) # excluding the target variable and computes the correlation matrix for all predictor variables"
   ]
  },
  {
   "cell_type": "markdown",
   "id": "363e9c6b",
   "metadata": {},
   "source": [
    "#### Finding predictors with correlations above 0.75"
   ]
  },
  {
   "cell_type": "code",
   "execution_count": 314,
   "id": "bc8b332d",
   "metadata": {
    "vscode": {
     "languageId": "r"
    }
   },
   "outputs": [],
   "source": [
    "highCorr <- findCorrelation(cor_matrix, cutoff = 0.75) # highCorr is a vector of column indices to remove."
   ]
  },
  {
   "cell_type": "code",
   "execution_count": 315,
   "id": "d030c727",
   "metadata": {
    "vscode": {
     "languageId": "r"
    }
   },
   "outputs": [],
   "source": [
    "train_filtered <- train_processed[, -highCorr] # Removes the identified highly correlated columns"
   ]
  },
  {
   "cell_type": "code",
   "execution_count": 316,
   "id": "0ed79866",
   "metadata": {
    "vscode": {
     "languageId": "r"
    }
   },
   "outputs": [
    {
     "data": {
      "image/png": "[encoded data removed]",
      "text/plain": [
       "Plot with title \"\""
      ]
     },
     "metadata": {
      "image/png": {
       "height": 420,
       "width": 420
      }
     },
     "output_type": "display_data"
    }
   ],
   "source": [
    "filtered_predictors <- train_filtered[, !(names(train_filtered) %in% \"diagnosis\")]\n",
    "cor_matrix_filtered <- cor(filtered_predictors)\n",
    "\n",
    "# Plot the filtered correlation matrix\n",
    "corrplot::corrplot(cor_matrix_filtered, method = \"color\", type = \"upper\",\n",
    "         tl.cex = 0.8, tl.col = \"black\",\n",
    "         col = colorRampPalette(c(\"blue\", \"white\", \"red\"))(200),\n",
    "         addCoef.col = \"black\", number.cex = 0.7)"
   ]
  },
  {
   "cell_type": "markdown",
   "id": "02b3c0cf",
   "metadata": {},
   "source": [
    "We have reduced the number of predictors to 12 that are not highly correlated with one another"
   ]
  },
  {
   "cell_type": "markdown",
   "id": "b6b0e08e",
   "metadata": {},
   "source": [
    "#### Checking the number of outliers"
   ]
  },
  {
   "cell_type": "code",
   "execution_count": 317,
   "id": "3cdfc76d",
   "metadata": {
    "vscode": {
     "languageId": "r"
    }
   },
   "outputs": [],
   "source": [
    "# Remove target variable\n",
    "predictors <- train_filtered[, !(names(train_filtered) %in% \"diagnosis\")]"
   ]
  },
  {
   "cell_type": "code",
   "execution_count": 318,
   "id": "71978b46",
   "metadata": {
    "vscode": {
     "languageId": "r"
    }
   },
   "outputs": [
    {
     "data": {
      "text/html": [
       "<style>\n",
       ".dl-inline {width: auto; margin:0; padding: 0}\n",
       ".dl-inline>dt, .dl-inline>dd {float: none; width: auto; display: inline-block}\n",
       ".dl-inline>dt::after {content: \":\\0020\"; padding-right: .5ex}\n",
       ".dl-inline>dt:not(:first-of-type) {padding-left: .5ex}\n",
       "</style><dl class=dl-inline><dt>radius_mean</dt><dd>7</dd><dt>symmetry_mean</dt><dd>6</dd><dt>radius_se</dt><dd>2</dd><dt>texture_se</dt><dd>2</dd><dt>smoothness_se</dt><dd>3</dd><dt>concavity_se</dt><dd>17</dd><dt>symmetry_se</dt><dd>1</dd><dt>fractal_dimension_se</dt><dd>1</dd><dt>texture_worst</dt><dd>0</dd><dt>smoothness_worst</dt><dd>2</dd><dt>symmetry_worst</dt><dd>8</dd><dt>fractal_dimension_worst</dt><dd>1</dd></dl>\n"
      ],
      "text/latex": [
       "\\begin{description*}\n",
       "\\item[radius\\textbackslash{}\\_mean] 7\n",
       "\\item[symmetry\\textbackslash{}\\_mean] 6\n",
       "\\item[radius\\textbackslash{}\\_se] 2\n",
       "\\item[texture\\textbackslash{}\\_se] 2\n",
       "\\item[smoothness\\textbackslash{}\\_se] 3\n",
       "\\item[concavity\\textbackslash{}\\_se] 17\n",
       "\\item[symmetry\\textbackslash{}\\_se] 1\n",
       "\\item[fractal\\textbackslash{}\\_dimension\\textbackslash{}\\_se] 1\n",
       "\\item[texture\\textbackslash{}\\_worst] 0\n",
       "\\item[smoothness\\textbackslash{}\\_worst] 2\n",
       "\\item[symmetry\\textbackslash{}\\_worst] 8\n",
       "\\item[fractal\\textbackslash{}\\_dimension\\textbackslash{}\\_worst] 1\n",
       "\\end{description*}\n"
      ],
      "text/markdown": [
       "radius_mean\n",
       ":   7symmetry_mean\n",
       ":   6radius_se\n",
       ":   2texture_se\n",
       ":   2smoothness_se\n",
       ":   3concavity_se\n",
       ":   17symmetry_se\n",
       ":   1fractal_dimension_se\n",
       ":   1texture_worst\n",
       ":   0smoothness_worst\n",
       ":   2symmetry_worst\n",
       ":   8fractal_dimension_worst\n",
       ":   1\n",
       "\n"
      ],
      "text/plain": [
       "            radius_mean           symmetry_mean               radius_se \n",
       "                      7                       6                       2 \n",
       "             texture_se           smoothness_se            concavity_se \n",
       "                      2                       3                      17 \n",
       "            symmetry_se    fractal_dimension_se           texture_worst \n",
       "                      1                       1                       0 \n",
       "       smoothness_worst          symmetry_worst fractal_dimension_worst \n",
       "                      2                       8                       1 "
      ]
     },
     "metadata": {},
     "output_type": "display_data"
    }
   ],
   "source": [
    "# Function to compute outlier counts\n",
    "outlier_count <- function(x) {\n",
    "  qnt <- quantile(x, probs=c(0.25, 0.75))\n",
    "  iqr <- qnt[2] - qnt[1]\n",
    "  lower <- qnt[1] - 1.5 * iqr\n",
    "  upper <- qnt[2] + 1.5 * iqr\n",
    "  sum(x < lower | x > upper)\n",
    "}\n",
    "\n",
    "# Apply to all predictors\n",
    "sapply(predictors, outlier_count)"
   ]
  },
  {
   "cell_type": "markdown",
   "id": "20084737",
   "metadata": {},
   "source": [
    "## Modelation"
   ]
  },
  {
   "cell_type": "markdown",
   "id": "d4ba8f9a",
   "metadata": {},
   "source": [
    "#### Defining Cross-validation"
   ]
  },
  {
   "cell_type": "code",
   "execution_count": 319,
   "id": "31185ab5",
   "metadata": {
    "vscode": {
     "languageId": "r"
    }
   },
   "outputs": [],
   "source": [
    "ctrl <- trainControl(method = \"cv\", number = 10)"
   ]
  },
  {
   "cell_type": "markdown",
   "id": "1eba715e",
   "metadata": {},
   "source": [
    "#### Neural Network"
   ]
  },
  {
   "cell_type": "code",
   "execution_count": 320,
   "id": "891091fc",
   "metadata": {
    "vscode": {
     "languageId": "r"
    }
   },
   "outputs": [],
   "source": [
    "nn_model <- train(diagnosis ~ ., data = train_filtered,\n",
    "                  method = \"nnet\",\n",
    "                  trControl = ctrl,\n",
    "                  preProcess = NULL,\n",
    "                  trace = FALSE,  # suppress training output\n",
    "                  linout = FALSE)"
   ]
  },
  {
   "cell_type": "markdown",
   "id": "7391419a",
   "metadata": {},
   "source": [
    "#### Support Vector Machine (SVM)"
   ]
  },
  {
   "cell_type": "code",
   "execution_count": 321,
   "id": "e08e90bd",
   "metadata": {
    "vscode": {
     "languageId": "r"
    }
   },
   "outputs": [],
   "source": [
    "svm_model <- train(diagnosis ~ ., data = train_filtered,\n",
    "                   method = \"svmRadial\",\n",
    "                   trControl = ctrl,\n",
    "                   preProcess = NULL)"
   ]
  },
  {
   "cell_type": "markdown",
   "id": "3de213d6",
   "metadata": {},
   "source": [
    "#### k-Nearest Neighbors"
   ]
  },
  {
   "cell_type": "code",
   "execution_count": 322,
   "id": "048dba26",
   "metadata": {
    "vscode": {
     "languageId": "r"
    }
   },
   "outputs": [],
   "source": [
    "knn_model <- train(diagnosis ~ ., data = train_filtered,\n",
    "                   method = \"knn\",\n",
    "                   trControl = ctrl,\n",
    "                   preProcess = NULL)"
   ]
  },
  {
   "cell_type": "markdown",
   "id": "ab2b6e11",
   "metadata": {},
   "source": [
    "#### Naïve Bayes"
   ]
  },
  {
   "cell_type": "code",
   "execution_count": 323,
   "id": "d9d454f6",
   "metadata": {
    "vscode": {
     "languageId": "r"
    }
   },
   "outputs": [],
   "source": [
    "nb_model <- train(diagnosis ~ ., data = train_filtered,\n",
    "                  method = \"nb\",\n",
    "                  trControl = ctrl,\n",
    "                  preProcess = NULL)"
   ]
  },
  {
   "cell_type": "markdown",
   "id": "ebf43a98",
   "metadata": {},
   "source": [
    "#### Flexible Discriminant Analysis (FDA)"
   ]
  },
  {
   "cell_type": "code",
   "execution_count": 324,
   "id": "b802e898",
   "metadata": {
    "vscode": {
     "languageId": "r"
    }
   },
   "outputs": [],
   "source": [
    "fda_model <- train(diagnosis ~ ., data = train_filtered,\n",
    "                   method = \"fda\",\n",
    "                   trControl = ctrl,\n",
    "                   preProcess = NULL)"
   ]
  },
  {
   "cell_type": "markdown",
   "id": "1e81442c",
   "metadata": {},
   "source": [
    "#### Putting all the models together"
   ]
  },
  {
   "cell_type": "code",
   "execution_count": 325,
   "id": "fb775907",
   "metadata": {
    "vscode": {
     "languageId": "r"
    }
   },
   "outputs": [],
   "source": [
    "models_list <- list(\n",
    "  NeuralNet = nn_model,\n",
    "  SVM = svm_model,\n",
    "  KNN = knn_model,\n",
    "  NaiveBayes = nb_model,\n",
    "  FDA = fda_model\n",
    ")"
   ]
  },
  {
   "cell_type": "markdown",
   "id": "5d98989e",
   "metadata": {},
   "source": [
    "#### Compraing Results"
   ]
  },
  {
   "cell_type": "code",
   "execution_count": 326,
   "id": "0e7fab9a",
   "metadata": {
    "vscode": {
     "languageId": "r"
    }
   },
   "outputs": [
    {
     "data": {
      "text/plain": [
       "\n",
       "Call:\n",
       "summary.resamples(object = results)\n",
       "\n",
       "Models: NeuralNet, SVM, KNN, NaiveBayes, FDA \n",
       "Number of resamples: 10 \n",
       "\n",
       "Accuracy \n",
       "                Min.   1st Qu.    Median      Mean   3rd Qu.      Max. NA's\n",
       "NeuralNet  0.9705882 0.9705882 0.9710084 0.9795798 0.9928571 1.0000000    0\n",
       "SVM        0.8823529 0.9210084 0.9705882 0.9563866 0.9926471 1.0000000    0\n",
       "KNN        0.8823529 0.9142857 0.9420168 0.9450369 0.9924242 1.0000000    0\n",
       "NaiveBayes 0.8285714 0.9142857 0.9411765 0.9275579 0.9424370 0.9705882    0\n",
       "FDA        0.8823529 0.9123950 0.9567227 0.9446218 0.9705882 1.0000000    0\n",
       "\n",
       "Kappa \n",
       "                Min.   1st Qu.    Median      Mean   3rd Qu.      Max. NA's\n",
       "NeuralNet  0.9343629 0.9370605 0.9382306 0.9560891 0.9846570 1.0000000    0\n",
       "SVM        0.7433962 0.8266598 0.9368030 0.9046945 0.9842007 1.0000000    0\n",
       "KNN        0.7354086 0.8088794 0.8726722 0.8790170 0.9833333 1.0000000    0\n",
       "NaiveBayes 0.6440678 0.8111815 0.8735780 0.8443248 0.8770813 0.9343629    0\n",
       "FDA        0.7354086 0.8139837 0.9052246 0.8795502 0.9368030 1.0000000    0\n"
      ]
     },
     "metadata": {},
     "output_type": "display_data"
    },
    {
     "data": {
      "image/png": "[encoded data removed]",
      "text/plain": [
       "plot without title"
      ]
     },
     "metadata": {
      "image/png": {
       "height": 420,
       "width": 420
      }
     },
     "output_type": "display_data"
    }
   ],
   "source": [
    "# Collect resampling results\n",
    "results <- resamples(models_list)\n",
    "\n",
    "# Summary table\n",
    "summary(results)\n",
    "dotplot(results)\n"
   ]
  },
  {
   "cell_type": "markdown",
   "id": "b55f9bdb",
   "metadata": {},
   "source": [
    "Among the models tested, the neural network achieved the highest cross-validated mean accuracy (97.96%) and Kappa (95.69%), followed closely by SVM (95.64% accuracy, 94.06% Kappa), while KNN, FDA, and Naive Bayes showed slightly lower performance with greater variability."
   ]
  },
  {
   "cell_type": "markdown",
   "id": "3a680a42",
   "metadata": {},
   "source": [
    "#### Classification tree (CART)"
   ]
  },
  {
   "cell_type": "code",
   "execution_count": 327,
   "id": "d9d504be",
   "metadata": {
    "vscode": {
     "languageId": "r"
    }
   },
   "outputs": [],
   "source": [
    "cart_model <- train(diagnosis ~ ., data = train_filtered,\n",
    "                    method = \"rpart\",\n",
    "                    trControl = ctrl)"
   ]
  },
  {
   "cell_type": "markdown",
   "id": "cf3557a1",
   "metadata": {},
   "source": [
    "#### Bagged trees"
   ]
  },
  {
   "cell_type": "code",
   "execution_count": 328,
   "id": "82101280",
   "metadata": {
    "vscode": {
     "languageId": "r"
    }
   },
   "outputs": [],
   "source": [
    "bagged_model <- train(diagnosis ~ ., data = train_filtered,\n",
    "                      method = \"treebag\",\n",
    "                      trControl = ctrl)"
   ]
  },
  {
   "cell_type": "markdown",
   "id": "a164dec2",
   "metadata": {},
   "source": [
    "#### Random forest"
   ]
  },
  {
   "cell_type": "code",
   "execution_count": 329,
   "id": "44df6630",
   "metadata": {
    "vscode": {
     "languageId": "r"
    }
   },
   "outputs": [],
   "source": [
    "rf_model <- train(diagnosis ~ ., data = train_filtered,\n",
    "                  method = \"rf\",\n",
    "                  trControl = ctrl)"
   ]
  },
  {
   "cell_type": "markdown",
   "id": "9ce9409d",
   "metadata": {},
   "source": [
    "#### Boosted trees (GBM)"
   ]
  },
  {
   "cell_type": "code",
   "execution_count": 330,
   "id": "e6954a0e",
   "metadata": {
    "vscode": {
     "languageId": "r"
    }
   },
   "outputs": [],
   "source": [
    "boosted_model <- train(diagnosis ~ ., data = train_filtered,\n",
    "                       method = \"gbm\",\n",
    "                       trControl = ctrl,\n",
    "                       verbose = FALSE)"
   ]
  },
  {
   "cell_type": "markdown",
   "id": "6d2c7b49",
   "metadata": {},
   "source": [
    "#### C5.0"
   ]
  },
  {
   "cell_type": "code",
   "execution_count": 331,
   "id": "98de222d",
   "metadata": {
    "vscode": {
     "languageId": "r"
    }
   },
   "outputs": [],
   "source": [
    "c50_model <- train(diagnosis ~ ., data = train_filtered,\n",
    "                   method = \"C5.0\",\n",
    "                   trControl = ctrl)"
   ]
  },
  {
   "cell_type": "markdown",
   "id": "82006c90",
   "metadata": {},
   "source": [
    "#### Comparing performance for Tree-based and Ensemble Models"
   ]
  },
  {
   "cell_type": "code",
   "execution_count": 332,
   "id": "c7092545",
   "metadata": {
    "vscode": {
     "languageId": "r"
    }
   },
   "outputs": [
    {
     "data": {
      "text/plain": [
       "\n",
       "Call:\n",
       "summary.resamples(object = results_tree)\n",
       "\n",
       "Models: CART, Bagged, RF, GBM, C50 \n",
       "Number of resamples: 10 \n",
       "\n",
       "Accuracy \n",
       "            Min.   1st Qu.    Median      Mean   3rd Qu.      Max. NA's\n",
       "CART   0.8529412 0.8602941 0.8823529 0.8889076 0.9052521 0.9428571    0\n",
       "Bagged 0.8285714 0.8922269 0.9130252 0.9129361 0.9411765 0.9696970    0\n",
       "RF     0.8823529 0.9415966 0.9567227 0.9535294 0.9705882 1.0000000    0\n",
       "GBM    0.8235294 0.9415966 0.9696970 0.9446957 0.9714286 1.0000000    0\n",
       "C50    0.8823529 0.9205628 0.9420168 0.9415865 0.9705882 0.9714286    0\n",
       "\n",
       "Kappa \n",
       "            Min.   1st Qu.    Median      Mean   3rd Qu.      Max. NA's\n",
       "CART   0.6931408 0.7171407 0.7613565 0.7703383 0.8002409 0.8776224    0\n",
       "Bagged 0.6328671 0.7746361 0.8146918 0.8140209 0.8750050 0.9333333    0\n",
       "RF     0.7424242 0.8721851 0.9052246 0.8987148 0.9381719 1.0000000    0\n",
       "GBM    0.6031128 0.8731792 0.9333333 0.8791696 0.9392775 1.0000000    0\n",
       "C50    0.7433962 0.8305072 0.8767674 0.8741912 0.9375755 0.9386282    0\n"
      ]
     },
     "metadata": {},
     "output_type": "display_data"
    },
    {
     "data": {
      "image/png": "[encoded data removed]",
      "text/plain": [
       "plot without title"
      ]
     },
     "metadata": {
      "image/png": {
       "height": 420,
       "width": 420
      }
     },
     "output_type": "display_data"
    }
   ],
   "source": [
    "models_list_tree <- list(CART = cart_model, Bagged = bagged_model, RF = rf_model,\n",
    "                         GBM = boosted_model, C50 = c50_model)\n",
    "\n",
    "results_tree <- resamples(models_list_tree)\n",
    "summary(results_tree)\n",
    "dotplot(results_tree)\n"
   ]
  },
  {
   "cell_type": "markdown",
   "id": "8fe1dddf",
   "metadata": {},
   "source": [
    "#### Linear and Regularized Models"
   ]
  },
  {
   "cell_type": "markdown",
   "id": "b40101ac",
   "metadata": {},
   "source": [
    "#### Logistic regression"
   ]
  },
  {
   "cell_type": "code",
   "execution_count": 333,
   "id": "c3d5135d",
   "metadata": {
    "vscode": {
     "languageId": "r"
    }
   },
   "outputs": [],
   "source": [
    "log_model <- train(diagnosis ~ ., data = train_filtered,\n",
    "                   method = \"glm\",\n",
    "                   family = \"binomial\",\n",
    "                   trControl = ctrl)"
   ]
  },
  {
   "cell_type": "markdown",
   "id": "429c7508",
   "metadata": {},
   "source": [
    "#### Linear Discriminant Analysis (LDA)"
   ]
  },
  {
   "cell_type": "code",
   "execution_count": 334,
   "id": "025b29e8",
   "metadata": {
    "vscode": {
     "languageId": "r"
    }
   },
   "outputs": [],
   "source": [
    "lda_model <- train(diagnosis ~ ., data = train_filtered,\n",
    "                   method = \"lda\",\n",
    "                   trControl = ctrl)"
   ]
  },
  {
   "cell_type": "markdown",
   "id": "5ba0a5e5",
   "metadata": {},
   "source": [
    "#### Quadratic Discriminant Analysis (QDA)"
   ]
  },
  {
   "cell_type": "code",
   "execution_count": 335,
   "id": "f11c3154",
   "metadata": {
    "vscode": {
     "languageId": "r"
    }
   },
   "outputs": [],
   "source": [
    "qda_model <- train(diagnosis ~ ., data = train_filtered,\n",
    "                   method = \"qda\",\n",
    "                   trControl = ctrl)"
   ]
  },
  {
   "cell_type": "markdown",
   "id": "54287a4d",
   "metadata": {},
   "source": [
    "#### Partial Least Squares Discriminant Analysis (PLS-DA)"
   ]
  },
  {
   "cell_type": "code",
   "execution_count": 336,
   "id": "c57ee206",
   "metadata": {
    "vscode": {
     "languageId": "r"
    }
   },
   "outputs": [],
   "source": [
    "plsda_model <- train(diagnosis ~ ., data = train_filtered,\n",
    "                     method = \"pls\",\n",
    "                     trControl = ctrl)"
   ]
  },
  {
   "cell_type": "markdown",
   "id": "cc087a9e",
   "metadata": {},
   "source": [
    "#### Penalized models"
   ]
  },
  {
   "cell_type": "markdown",
   "id": "9e3212cf",
   "metadata": {},
   "source": [
    "##### Ridge regression"
   ]
  },
  {
   "cell_type": "code",
   "execution_count": 337,
   "id": "85a54cb9",
   "metadata": {
    "vscode": {
     "languageId": "r"
    }
   },
   "outputs": [],
   "source": [
    "ridge_model <- train(diagnosis ~ ., data = train_filtered,\n",
    "                     method = \"glmnet\",\n",
    "                     trControl = ctrl,\n",
    "                     tuneGrid = expand.grid(alpha = 0, lambda = seq(0.0001, 1, length = 10)))"
   ]
  },
  {
   "cell_type": "markdown",
   "id": "2b7ab18b",
   "metadata": {},
   "source": [
    "##### Lasso regression"
   ]
  },
  {
   "cell_type": "code",
   "execution_count": 338,
   "id": "dd29970b",
   "metadata": {
    "vscode": {
     "languageId": "r"
    }
   },
   "outputs": [],
   "source": [
    "lasso_model <- train(diagnosis ~ ., data = train_filtered,\n",
    "                     method = \"glmnet\",\n",
    "                     trControl = ctrl,\n",
    "                     tuneGrid = expand.grid(alpha = 1, lambda = seq(0.0001, 1, length = 10)))"
   ]
  },
  {
   "cell_type": "markdown",
   "id": "59357e19",
   "metadata": {},
   "source": [
    "##### Elastic net"
   ]
  },
  {
   "cell_type": "code",
   "execution_count": 339,
   "id": "df1e8d18",
   "metadata": {
    "vscode": {
     "languageId": "r"
    }
   },
   "outputs": [],
   "source": [
    "elastic_model <- train(diagnosis ~ ., data = train_filtered,\n",
    "                       method = \"glmnet\",\n",
    "                       trControl = ctrl,\n",
    "                       tuneLength = 10)  # automatically searches alpha & lambda"
   ]
  },
  {
   "cell_type": "markdown",
   "id": "e6d02124",
   "metadata": {},
   "source": [
    "##### Nearest Shrunken Centroids"
   ]
  },
  {
   "cell_type": "code",
   "execution_count": 340,
   "id": "244f000d",
   "metadata": {
    "vscode": {
     "languageId": "r"
    }
   },
   "outputs": [
    {
     "name": "stdout",
     "output_type": "stream",
     "text": [
      "12345678910111213141516171819202122232425262728293011111111111"
     ]
    }
   ],
   "source": [
    "nsc_model <- train(diagnosis ~ ., data = train_filtered,\n",
    "                   method = \"pam\",\n",
    "                   trControl = ctrl)"
   ]
  },
  {
   "cell_type": "markdown",
   "id": "10016e61",
   "metadata": {},
   "source": [
    "#### Comparing linear models"
   ]
  },
  {
   "cell_type": "code",
   "execution_count": 341,
   "id": "121dd9df",
   "metadata": {
    "vscode": {
     "languageId": "r"
    }
   },
   "outputs": [
    {
     "data": {
      "text/plain": [
       "\n",
       "Call:\n",
       "summary.resamples(object = results_linear)\n",
       "\n",
       "Models: Logistic, LDA, QDA, PLSDA, Ridge, Lasso, ElasticNet, NSC \n",
       "Number of resamples: 10 \n",
       "\n",
       "Accuracy \n",
       "                Min.   1st Qu.    Median      Mean   3rd Qu. Max. NA's\n",
       "Logistic   0.9142857 0.9415966 0.9562771 0.9594067 0.9712185    1    0\n",
       "LDA        0.9117647 0.9415966 0.9701426 0.9620117 0.9714286    1    0\n",
       "QDA        0.8857143 0.9210084 0.9558824 0.9509244 0.9926471    1    0\n",
       "PLSDA      0.9411765 0.9415966 0.9705882 0.9621008 0.9712185    1    0\n",
       "Ridge      0.9411765 0.9415966 0.9710084 0.9679832 0.9928571    1    0\n",
       "Lasso      0.9411765 0.9415966 0.9701426 0.9678100 0.9928571    1    0\n",
       "ElasticNet 0.9696970 0.9705882 0.9710084 0.9765444 0.9714286    1    0\n",
       "NSC        0.8235294 0.8922269 0.9142857 0.9127731 0.9424370    1    0\n",
       "\n",
       "Kappa \n",
       "                Min.   1st Qu.    Median      Mean   3rd Qu. Max. NA's\n",
       "Logistic   0.8247078 0.8740991 0.9054779 0.9127371 0.9384294    1    0\n",
       "LDA        0.8045977 0.8740991 0.9350177 0.9171101 0.9378330    1    0\n",
       "QDA        0.7552448 0.8323824 0.9066832 0.8959101 0.9842007    1    0\n",
       "PLSDA      0.8712121 0.8721851 0.9368030 0.9176256 0.9375755    1    0\n",
       "Ridge      0.8716981 0.8740991 0.9373180 0.9306895 0.9849398    1    0\n",
       "Lasso      0.8716981 0.8759990 0.9359807 0.9308197 0.9849398    1    0\n",
       "ElasticNet 0.9333333 0.9368030 0.9373180 0.9494840 0.9392775    1    0\n",
       "NSC        0.5903614 0.7552539 0.8073394 0.8031264 0.8731592    1    0\n"
      ]
     },
     "metadata": {},
     "output_type": "display_data"
    },
    {
     "data": {
      "image/png": "[encoded data removed]",
      "text/plain": [
       "plot without title"
      ]
     },
     "metadata": {
      "image/png": {
       "height": 420,
       "width": 420
      }
     },
     "output_type": "display_data"
    }
   ],
   "source": [
    "models_list_linear <- list(Logistic = log_model, LDA = lda_model, QDA = qda_model, \n",
    "                           PLSDA = plsda_model, Ridge = ridge_model, Lasso = lasso_model,\n",
    "                           ElasticNet = elastic_model, NSC = nsc_model)\n",
    "\n",
    "results_linear <- resamples(models_list_linear)\n",
    "summary(results_linear)\n",
    "dotplot(results_linear)"
   ]
  },
  {
   "cell_type": "markdown",
   "id": "14586602",
   "metadata": {},
   "source": [
    "## Summarizing all the models"
   ]
  },
  {
   "cell_type": "code",
   "execution_count": 342,
   "id": "40c0082b",
   "metadata": {
    "vscode": {
     "languageId": "r"
    }
   },
   "outputs": [
    {
     "name": "stdout",
     "output_type": "stream",
     "text": [
      "                 Group         Model MeanAccuracy MeanKappa\n",
      "1 Linear & Regularized   Elastic Net       0.9765    0.9405\n",
      "2      Tree & Ensemble Random Forest       0.9535    0.8987\n",
      "3    Other classifiers    Neural Net       0.9796    0.9561\n"
     ]
    }
   ],
   "source": [
    "# Example data (replace with your actual numbers)\n",
    "results_summary <- data.frame(\n",
    "  Group = c(\"Linear & Regularized\", \"Tree & Ensemble\", \"Other classifiers\"),\n",
    "  Model = c(\"Elastic Net\", \"Random Forest\", \"Neural Net\"),\n",
    "  MeanAccuracy = c(0.9765, 0.9535, 0.9796),\n",
    "  MeanKappa = c(0.9405, 0.8987, 0.9561)\n",
    ")\n",
    "\n",
    "print(results_summary)"
   ]
  },
  {
   "cell_type": "markdown",
   "id": "f4394dc9",
   "metadata": {},
   "source": [
    "Among all models, the neural network achieved the highest cross-validated mean accuracy (97.96%) and Kappa (95.61%), followed closely by elastic net (97.65% accuracy, 94.05% Kappa), while random forest led among tree-based models with 95.35% accuracy and 89.87% Kappa."
   ]
  },
  {
   "cell_type": "markdown",
   "id": "438e9969",
   "metadata": {},
   "source": [
    "## Preparing test dataset"
   ]
  },
  {
   "cell_type": "markdown",
   "id": "c507ec6a",
   "metadata": {},
   "source": [
    "Removing correlated columns"
   ]
  },
  {
   "cell_type": "code",
   "execution_count": 343,
   "id": "942d7b19",
   "metadata": {
    "vscode": {
     "languageId": "r"
    }
   },
   "outputs": [],
   "source": [
    "test_filtered <- test_processed[, names(train_filtered)]"
   ]
  },
  {
   "cell_type": "markdown",
   "id": "46ecda70",
   "metadata": {},
   "source": [
    "## Making predictions with the best performance models"
   ]
  },
  {
   "cell_type": "code",
   "execution_count": 344,
   "id": "b1d22a6a",
   "metadata": {
    "vscode": {
     "languageId": "r"
    }
   },
   "outputs": [],
   "source": [
    "# Neural network\n",
    "pred_nn <- predict(nn_model, newdata = test_filtered)\n",
    "cm_nn <- confusionMatrix(pred_nn, test_filtered$diagnosis)"
   ]
  },
  {
   "cell_type": "code",
   "execution_count": 345,
   "id": "4613596f",
   "metadata": {
    "vscode": {
     "languageId": "r"
    }
   },
   "outputs": [],
   "source": [
    "# Elastic net\n",
    "pred_en <- predict(elastic_model, newdata = test_filtered)\n",
    "cm_en <- confusionMatrix(pred_en, test_filtered$diagnosis)"
   ]
  },
  {
   "cell_type": "code",
   "execution_count": 346,
   "id": "e197ef57",
   "metadata": {
    "vscode": {
     "languageId": "r"
    }
   },
   "outputs": [],
   "source": [
    "# Random forest\n",
    "pred_rf <- predict(rf_model, newdata = test_filtered)\n",
    "cm_rf <- confusionMatrix(pred_rf, test_filtered$diagnosis)"
   ]
  },
  {
   "cell_type": "markdown",
   "id": "3f7ae38e",
   "metadata": {},
   "source": [
    "#### Comparison Table between models:"
   ]
  },
  {
   "cell_type": "code",
   "execution_count": 347,
   "id": "3ad8f055",
   "metadata": {
    "vscode": {
     "languageId": "r"
    }
   },
   "outputs": [
    {
     "name": "stdout",
     "output_type": "stream",
     "text": [
      "           Model  Accuracy     Kappa Sensitivity Specificity\n",
      "1 Neural Network 0.9690265 0.9341656   0.9647887   0.9761905\n",
      "2    Elastic Net 0.9557522 0.9052649   0.9647887   0.9404762\n",
      "3  Random Forest 0.9380531 0.8680127   0.9436620   0.9285714\n"
     ]
    }
   ],
   "source": [
    "# Create a data frame with selected metrics\n",
    "results_table <- data.frame(\n",
    "  Model = c(\"Neural Network\", \"Elastic Net\", \"Random Forest\"),\n",
    "  Accuracy = c(cm_nn$overall[\"Accuracy\"],\n",
    "               cm_en$overall[\"Accuracy\"],\n",
    "               cm_rf$overall[\"Accuracy\"]),\n",
    "  Kappa = c(cm_nn$overall[\"Kappa\"],\n",
    "            cm_en$overall[\"Kappa\"],\n",
    "            cm_rf$overall[\"Kappa\"]),\n",
    "  Sensitivity = c(cm_nn$byClass[\"Sensitivity\"],\n",
    "                  cm_en$byClass[\"Sensitivity\"],\n",
    "                  cm_rf$byClass[\"Sensitivity\"]),\n",
    "  Specificity = c(cm_nn$byClass[\"Specificity\"],\n",
    "                  cm_en$byClass[\"Specificity\"],\n",
    "                  cm_rf$byClass[\"Specificity\"])\n",
    ")\n",
    "\n",
    "# Print the table\n",
    "print(results_table)\n"
   ]
  },
  {
   "cell_type": "markdown",
   "id": "c2c95f8d",
   "metadata": {},
   "source": [
    "#### Generating ROC and AUC "
   ]
  },
  {
   "cell_type": "code",
   "execution_count": 348,
   "id": "87e6d450",
   "metadata": {
    "vscode": {
     "languageId": "r"
    }
   },
   "outputs": [
    {
     "name": "stderr",
     "output_type": "stream",
     "text": [
      "Setting levels: control = B, case = M\n",
      "\n",
      "Setting direction: controls < cases\n",
      "\n"
     ]
    },
    {
     "name": "stderr",
     "output_type": "stream",
     "text": [
      "Setting levels: control = B, case = M\n",
      "\n",
      "Setting direction: controls < cases\n",
      "\n",
      "Setting levels: control = B, case = M\n",
      "\n",
      "Setting direction: controls < cases\n",
      "\n"
     ]
    }
   ],
   "source": [
    "# Neural network\n",
    "prob_nn <- predict(nn_model, newdata = test_filtered, type = \"prob\")\n",
    "roc_nn <- roc(response = test_filtered$diagnosis, predictor = prob_nn[, \"M\"])\n",
    "\n",
    "# Elastic Net\n",
    "prob_en <- predict(elastic_model, newdata = test_filtered, type = \"prob\")\n",
    "roc_en <- roc(response = test_filtered$diagnosis, predictor = prob_en[, \"M\"])\n",
    "\n",
    "# Random Forest\n",
    "prob_rf <- predict(rf_model, newdata = test_filtered, type = \"prob\")\n",
    "roc_rf <- roc(response = test_filtered$diagnosis, predictor = prob_rf[, \"M\"])\n"
   ]
  },
  {
   "cell_type": "markdown",
   "id": "7a85bdbf",
   "metadata": {},
   "source": [
    "## ROC curves"
   ]
  },
  {
   "cell_type": "code",
   "execution_count": 349,
   "id": "0ac6d1d0",
   "metadata": {
    "vscode": {
     "languageId": "r"
    }
   },
   "outputs": [
    {
     "data": {
      "image/png": "[encoded data removed]",
      "text/plain": [
       "Plot with title \"ROC Curves: Test Set\""
      ]
     },
     "metadata": {
      "image/png": {
       "height": 420,
       "width": 420
      }
     },
     "output_type": "display_data"
    }
   ],
   "source": [
    "plot(roc_nn, col = \"blue\", main = \"ROC Curves: Test Set\")\n",
    "plot(roc_en, col = \"red\", add = TRUE)\n",
    "plot(roc_rf, col = \"green\", add = TRUE)\n",
    "legend(\"bottomright\", legend = c(\"Neural Net\", \"Elastic Net\", \"Random Forest\"),\n",
    "       col = c(\"blue\", \"red\", \"green\"), lwd = 2)"
   ]
  },
  {
   "cell_type": "markdown",
   "id": "055a6d89",
   "metadata": {},
   "source": [
    "AUC Values"
   ]
  },
  {
   "cell_type": "code",
   "execution_count": 350,
   "id": "db768b95",
   "metadata": {
    "vscode": {
     "languageId": "r"
    }
   },
   "outputs": [
    {
     "name": "stdout",
     "output_type": "stream",
     "text": [
      "Neural Net AUC: 0.9922032 \n",
      "Elastic Net AUC: 0.9868377 \n",
      "Random Forest AUC: 0.9883048 \n"
     ]
    }
   ],
   "source": [
    "cat(\"Neural Net AUC:\", auc(roc_nn), \"\\n\")\n",
    "cat(\"Elastic Net AUC:\", auc(roc_en), \"\\n\")\n",
    "cat(\"Random Forest AUC:\", auc(roc_rf), \"\\n\")"
   ]
  },
  {
   "cell_type": "markdown",
   "id": "449e646f",
   "metadata": {
    "vscode": {
     "languageId": "r"
    }
   },
   "source": [
    "On the test set, all models demonstrated excellent classification performance, with the neural network achieving the highest AUC (0.992), followed by random forest (0.988) and elastic net (0.987), indicating very high ability to distinguish malignant from benign cases."
   ]
  },
  {
   "cell_type": "markdown",
   "id": "5c0a9d4c",
   "metadata": {},
   "source": [
    "#### Lift chart for best model: neural net"
   ]
  },
  {
   "cell_type": "code",
   "execution_count": 351,
   "id": "39facfd0",
   "metadata": {
    "vscode": {
     "languageId": "r"
    }
   },
   "outputs": [
    {
     "data": {
      "image/png": "[encoded data removed]",
      "text/plain": [
       "plot without title"
      ]
     },
     "metadata": {
      "image/png": {
       "height": 420,
       "width": 420
      }
     },
     "output_type": "display_data"
    }
   ],
   "source": [
    "# Predict probabilities\n",
    "prob_nn <- predict(nn_model, newdata = test_filtered, type = \"prob\")\n",
    "\n",
    "# Generate lift object\n",
    "lift_nn <- lift(diagnosis ~ prob_nn[, \"M\"], data = test_filtered)\n",
    "\n",
    "# Plot lift chart\n",
    "plot(lift_nn, main = \"Lift Chart - Neural Net\")\n"
   ]
  },
  {
   "cell_type": "markdown",
   "id": "1f1a102a",
   "metadata": {},
   "source": [
    "This lift chart shows us how well the model ranks positive cases (M)."
   ]
  },
  {
   "cell_type": "markdown",
   "id": "8dfc7bc5",
   "metadata": {},
   "source": [
    "## Conclusion"
   ]
  },
  {
   "cell_type": "markdown",
   "id": "8f4c578e",
   "metadata": {},
   "source": [
    "The classification models developed for breast cancer diagnosis showed excellent predictive performance on the test set. Among them, the neural network achieved the highest AUC (0.992) and strong accuracy, indicating superior ability to distinguish between malignant and benign cases. The elastic net (AUC 0.987) and random forest (AUC 0.988) models also performed exceptionally well, offering robust alternatives with comparable discrimination power. These results highlight that both linear regularized models and nonlinear ensemble methods can provide highly reliable predictions in this medical classification task. Future work could explore external validation on independent datasets and assess model interpretability for clinical use."
   ]
  }
 ],
 "metadata": {
  "kernelspec": {
   "display_name": "R",
   "language": "R",
   "name": "ir"
  },
  "language_info": {
   "codemirror_mode": "r",
   "file_extension": ".r",
   "mimetype": "text/x-r-source",
   "name": "R",
   "pygments_lexer": "r",
   "version": "4.5.0"
  }
 },
 "nbformat": 4,
 "nbformat_minor": 5
}
